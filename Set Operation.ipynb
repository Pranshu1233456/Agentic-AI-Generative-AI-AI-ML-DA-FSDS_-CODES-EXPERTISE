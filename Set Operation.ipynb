{
 "cells": [
  {
   "cell_type": "markdown",
   "id": "35da0c28-c066-497f-9184-817bd54a6b86",
   "metadata": {},
   "source": [
    "Set Create"
   ]
  },
  {
   "cell_type": "code",
   "execution_count": 2,
   "id": "886ddb67-0e07-4609-90a7-a0c067635157",
   "metadata": {},
   "outputs": [
    {
     "data": {
      "text/plain": [
       "{}"
      ]
     },
     "execution_count": 2,
     "metadata": {},
     "output_type": "execute_result"
    }
   ],
   "source": [
    "s={}\n",
    "s"
   ]
  },
  {
   "cell_type": "code",
   "execution_count": 3,
   "id": "522876d9-29a2-4e05-b4e0-24d1dc8c1873",
   "metadata": {},
   "outputs": [
    {
     "data": {
      "text/plain": [
       "dict"
      ]
     },
     "execution_count": 3,
     "metadata": {},
     "output_type": "execute_result"
    }
   ],
   "source": [
    "type(s)"
   ]
  },
  {
   "cell_type": "code",
   "execution_count": 4,
   "id": "c3be5cd8-0e56-4bce-8677-d0c73490414e",
   "metadata": {},
   "outputs": [
    {
     "data": {
      "text/plain": [
       "set()"
      ]
     },
     "execution_count": 4,
     "metadata": {},
     "output_type": "execute_result"
    }
   ],
   "source": [
    "s1=set()\n",
    "s1"
   ]
  },
  {
   "cell_type": "code",
   "execution_count": 5,
   "id": "f4db03ae-f4c6-42c8-9d42-0f6871f2a765",
   "metadata": {},
   "outputs": [
    {
     "data": {
      "text/plain": [
       "{10, 25, 40, 50, 90}"
      ]
     },
     "execution_count": 5,
     "metadata": {},
     "output_type": "execute_result"
    }
   ],
   "source": [
    "s2={90,10,25,50,40,25,10,50}\n",
    "s2"
   ]
  },
  {
   "cell_type": "code",
   "execution_count": 6,
   "id": "c8daee96-f5dd-4ddb-b771-cc8669cc0277",
   "metadata": {},
   "outputs": [
    {
     "data": {
      "text/plain": [
       "set"
      ]
     },
     "execution_count": 6,
     "metadata": {},
     "output_type": "execute_result"
    }
   ],
   "source": [
    "type(s2)"
   ]
  },
  {
   "cell_type": "code",
   "execution_count": 7,
   "id": "ee8386ce-0552-444e-8f40-bbac74ad72a6",
   "metadata": {},
   "outputs": [
    {
     "data": {
      "text/plain": [
       "{10, 25, 40, 50, 90}"
      ]
     },
     "execution_count": 7,
     "metadata": {},
     "output_type": "execute_result"
    }
   ],
   "source": [
    "s2"
   ]
  },
  {
   "cell_type": "code",
   "execution_count": 8,
   "id": "2e7b2b7d-f1d9-45ae-8e96-f2da4dce3ff7",
   "metadata": {},
   "outputs": [
    {
     "data": {
      "text/plain": [
       "{10, 25, 40, 50, 90}"
      ]
     },
     "execution_count": 8,
     "metadata": {},
     "output_type": "execute_result"
    }
   ],
   "source": [
    "s3=s2.copy()\n",
    "s3\n"
   ]
  },
  {
   "cell_type": "code",
   "execution_count": 9,
   "id": "0beafe29-ed26-49b7-928f-dc7b89924a88",
   "metadata": {},
   "outputs": [
    {
     "data": {
      "text/plain": [
       "{3.4, 10, 25, 40, 50, 90}"
      ]
     },
     "execution_count": 9,
     "metadata": {},
     "output_type": "execute_result"
    }
   ],
   "source": [
    "s3.add(3.4)\n",
    "s3"
   ]
  },
  {
   "cell_type": "code",
   "execution_count": 10,
   "id": "7b850a4d-705a-467a-b711-859e72990ccd",
   "metadata": {},
   "outputs": [
    {
     "data": {
      "text/plain": [
       "{10, 25, 3.4, 40, 50, 90, 'nit'}"
      ]
     },
     "execution_count": 10,
     "metadata": {},
     "output_type": "execute_result"
    }
   ],
   "source": [
    "s3.add('nit')\n",
    "s3"
   ]
  },
  {
   "cell_type": "code",
   "execution_count": 11,
   "id": "354b686c-0e9d-4487-b1a8-218351eaa4d5",
   "metadata": {},
   "outputs": [
    {
     "data": {
      "text/plain": [
       "{(1+2j), 10, 25, 3.4, 40, 50, 90, True, 'nit'}"
      ]
     },
     "execution_count": 11,
     "metadata": {},
     "output_type": "execute_result"
    }
   ],
   "source": [
    "s3.add(1+2j)\n",
    "s3.add(True)\n",
    "s3"
   ]
  },
  {
   "cell_type": "code",
   "execution_count": 12,
   "id": "6847291c-24cd-4222-941d-f0f5b94dd042",
   "metadata": {},
   "outputs": [
    {
     "name": "stdout",
     "output_type": "stream",
     "text": [
      "{}\n",
      "set()\n",
      "{50, 90, 40, 25, 10}\n",
      "{True, 3.4, (1+2j), 10, 25, 90, 40, 'nit', 50}\n"
     ]
    }
   ],
   "source": [
    "print(s)\n",
    "print(s1)\n",
    "print(s2)\n",
    "print(s3)"
   ]
  },
  {
   "cell_type": "code",
   "execution_count": 13,
   "id": "b20d23d8-db22-434f-ac25-2113264d6227",
   "metadata": {},
   "outputs": [
    {
     "data": {
      "text/plain": [
       "{}"
      ]
     },
     "execution_count": 13,
     "metadata": {},
     "output_type": "execute_result"
    }
   ],
   "source": [
    "s"
   ]
  },
  {
   "cell_type": "code",
   "execution_count": 14,
   "id": "f8ace969-951b-4b5e-b37e-a7562b623edc",
   "metadata": {},
   "outputs": [
    {
     "data": {
      "text/plain": [
       "dict"
      ]
     },
     "execution_count": 14,
     "metadata": {},
     "output_type": "execute_result"
    }
   ],
   "source": [
    "type(s)"
   ]
  },
  {
   "cell_type": "code",
   "execution_count": 15,
   "id": "8b2bbc48-1c24-4cf4-b07b-dca7b0fcc0e7",
   "metadata": {},
   "outputs": [
    {
     "data": {
      "text/plain": [
       "{10, 25, 40, 50, 90}"
      ]
     },
     "execution_count": 15,
     "metadata": {},
     "output_type": "execute_result"
    }
   ],
   "source": [
    "s2"
   ]
  },
  {
   "cell_type": "code",
   "execution_count": 16,
   "id": "947df1fa-2b7e-42d7-b147-71f3cc21c696",
   "metadata": {},
   "outputs": [
    {
     "data": {
      "text/plain": [
       "{(1+2j), 10, 25, 3.4, 40, 50, 90, True, 'nit'}"
      ]
     },
     "execution_count": 16,
     "metadata": {},
     "output_type": "execute_result"
    }
   ],
   "source": [
    "s3"
   ]
  },
  {
   "cell_type": "code",
   "execution_count": 21,
   "id": "f3773ab3-a8bc-480f-8f99-d39c0c231644",
   "metadata": {},
   "outputs": [
    {
     "data": {
      "text/plain": [
       "{10, 25, 3.4, 40, 50, 90, True, 'nit'}"
      ]
     },
     "execution_count": 21,
     "metadata": {},
     "output_type": "execute_result"
    }
   ],
   "source": [
    "s3"
   ]
  },
  {
   "cell_type": "code",
   "execution_count": 22,
   "id": "901df342-8bd1-4e29-be3d-47b54b69eb34",
   "metadata": {},
   "outputs": [
    {
     "ename": "KeyError",
     "evalue": "200000",
     "output_type": "error",
     "traceback": [
      "\u001b[1;31m---------------------------------------------------------------------------\u001b[0m",
      "\u001b[1;31mKeyError\u001b[0m                                  Traceback (most recent call last)",
      "Cell \u001b[1;32mIn[22], line 1\u001b[0m\n\u001b[1;32m----> 1\u001b[0m s3\u001b[38;5;241m.\u001b[39mremove(\u001b[38;5;241m200000\u001b[39m)\n",
      "\u001b[1;31mKeyError\u001b[0m: 200000"
     ]
    }
   ],
   "source": [
    "s3.remove(200000)"
   ]
  },
  {
   "cell_type": "code",
   "execution_count": 23,
   "id": "3597f5f6-9d63-4713-8c58-e4275589cf43",
   "metadata": {},
   "outputs": [],
   "source": [
    "s3.discard(10)"
   ]
  },
  {
   "cell_type": "code",
   "execution_count": 24,
   "id": "804e7073-fb7d-4a90-bbf9-632bfb930e02",
   "metadata": {},
   "outputs": [
    {
     "data": {
      "text/plain": [
       "{25, 3.4, 40, 50, 90, True, 'nit'}"
      ]
     },
     "execution_count": 24,
     "metadata": {},
     "output_type": "execute_result"
    }
   ],
   "source": [
    "s3"
   ]
  },
  {
   "cell_type": "code",
   "execution_count": 25,
   "id": "0039bc8e-48d6-4c48-ac63-b2078ed6ed97",
   "metadata": {},
   "outputs": [],
   "source": [
    "s3.discard(200000)"
   ]
  },
  {
   "cell_type": "code",
   "execution_count": 26,
   "id": "8719992e-e1cf-4d30-be8f-adbb9e820c6b",
   "metadata": {},
   "outputs": [
    {
     "data": {
      "text/plain": [
       "{25, 3.4, 40, 50, 90, True, 'nit'}"
      ]
     },
     "execution_count": 26,
     "metadata": {},
     "output_type": "execute_result"
    }
   ],
   "source": [
    "s3"
   ]
  },
  {
   "cell_type": "code",
   "execution_count": 27,
   "id": "5899787b-593e-4435-ac67-3814846261f8",
   "metadata": {},
   "outputs": [
    {
     "data": {
      "text/plain": [
       "True"
      ]
     },
     "execution_count": 27,
     "metadata": {},
     "output_type": "execute_result"
    }
   ],
   "source": [
    "s3.pop()"
   ]
  },
  {
   "cell_type": "code",
   "execution_count": 28,
   "id": "fa441394-c9af-4bff-bd74-ac914adb2bf8",
   "metadata": {},
   "outputs": [
    {
     "data": {
      "text/plain": [
       "{25, 3.4, 40, 50, 90, 'nit'}"
      ]
     },
     "execution_count": 28,
     "metadata": {},
     "output_type": "execute_result"
    }
   ],
   "source": [
    "s3"
   ]
  },
  {
   "cell_type": "code",
   "execution_count": 29,
   "id": "328937ba-3eca-4617-9c51-d7b90426532b",
   "metadata": {},
   "outputs": [
    {
     "data": {
      "text/plain": [
       "3.4"
      ]
     },
     "execution_count": 29,
     "metadata": {},
     "output_type": "execute_result"
    }
   ],
   "source": [
    "s3.pop()"
   ]
  },
  {
   "cell_type": "code",
   "execution_count": 30,
   "id": "844cf70f-dde2-4a02-a41f-112017040302",
   "metadata": {},
   "outputs": [
    {
     "ename": "TypeError",
     "evalue": "set.pop() takes no arguments (1 given)",
     "output_type": "error",
     "traceback": [
      "\u001b[1;31m---------------------------------------------------------------------------\u001b[0m",
      "\u001b[1;31mTypeError\u001b[0m                                 Traceback (most recent call last)",
      "Cell \u001b[1;32mIn[30], line 1\u001b[0m\n\u001b[1;32m----> 1\u001b[0m s3\u001b[38;5;241m.\u001b[39mpop(\u001b[38;5;241m0\u001b[39m)\n",
      "\u001b[1;31mTypeError\u001b[0m: set.pop() takes no arguments (1 given)"
     ]
    }
   ],
   "source": [
    "s3.pop(0)"
   ]
  },
  {
   "cell_type": "code",
   "execution_count": 31,
   "id": "6bf76952-aa16-4d31-88ab-b4839bd8e7d9",
   "metadata": {},
   "outputs": [
    {
     "data": {
      "text/plain": [
       "{25, 40, 50, 90, 'nit'}"
      ]
     },
     "execution_count": 31,
     "metadata": {},
     "output_type": "execute_result"
    }
   ],
   "source": [
    "s3"
   ]
  },
  {
   "cell_type": "code",
   "execution_count": 32,
   "id": "1d73bcea-75f2-4328-b3e8-223c30f1e6d8",
   "metadata": {},
   "outputs": [
    {
     "data": {
      "text/plain": [
       "25"
      ]
     },
     "execution_count": 32,
     "metadata": {},
     "output_type": "execute_result"
    }
   ],
   "source": [
    "s3.pop()"
   ]
  },
  {
   "cell_type": "code",
   "execution_count": 33,
   "id": "7149924a-b0d3-4c2a-9c0b-6696d2bcb605",
   "metadata": {},
   "outputs": [
    {
     "data": {
      "text/plain": [
       "{40, 50, 90, 'nit'}"
      ]
     },
     "execution_count": 33,
     "metadata": {},
     "output_type": "execute_result"
    }
   ],
   "source": [
    "s3"
   ]
  },
  {
   "cell_type": "code",
   "execution_count": 34,
   "id": "b4e987b9-bed1-43a1-b658-addb0fe31e85",
   "metadata": {},
   "outputs": [
    {
     "data": {
      "text/plain": [
       "True"
      ]
     },
     "execution_count": 34,
     "metadata": {},
     "output_type": "execute_result"
    }
   ],
   "source": [
    "40 in s3"
   ]
  },
  {
   "cell_type": "code",
   "execution_count": 35,
   "id": "afab2c38-9224-48bd-ae15-faddd9f7374e",
   "metadata": {},
   "outputs": [
    {
     "data": {
      "text/plain": [
       "True"
      ]
     },
     "execution_count": 35,
     "metadata": {},
     "output_type": "execute_result"
    }
   ],
   "source": [
    "90 in s3"
   ]
  },
  {
   "cell_type": "code",
   "execution_count": 36,
   "id": "e506c869-14ef-4dfe-8510-3102839fd41b",
   "metadata": {},
   "outputs": [
    {
     "data": {
      "text/plain": [
       "False"
      ]
     },
     "execution_count": 36,
     "metadata": {},
     "output_type": "execute_result"
    }
   ],
   "source": [
    "10 in s3"
   ]
  },
  {
   "cell_type": "markdown",
   "id": "1717129e-1da2-4cb4-af61-8ff1e2bf57e0",
   "metadata": {},
   "source": [
    "Set Operation"
   ]
  },
  {
   "cell_type": "code",
   "execution_count": 1,
   "id": "534ca8f1-bd92-4844-ab6d-b008d434825e",
   "metadata": {},
   "outputs": [],
   "source": [
    "a={1,2,3,4,5}\n",
    "b={4,5,6,7,8}\n",
    "c={8,9,10}"
   ]
  },
  {
   "cell_type": "code",
   "execution_count": 2,
   "id": "a066090d-208a-4e89-8a94-b0d55d362d9e",
   "metadata": {},
   "outputs": [
    {
     "data": {
      "text/plain": [
       "set"
      ]
     },
     "execution_count": 2,
     "metadata": {},
     "output_type": "execute_result"
    }
   ],
   "source": [
    "type(c)"
   ]
  },
  {
   "cell_type": "code",
   "execution_count": 3,
   "id": "cbe2417a-5197-4dad-8475-5221516702d9",
   "metadata": {},
   "outputs": [
    {
     "data": {
      "text/plain": [
       "{1, 2, 3, 4, 5, 6, 7, 8}"
      ]
     },
     "execution_count": 3,
     "metadata": {},
     "output_type": "execute_result"
    }
   ],
   "source": [
    "a.union(b)"
   ]
  },
  {
   "cell_type": "code",
   "execution_count": 4,
   "id": "bf823472-ab7b-4321-8dcf-81360f945293",
   "metadata": {},
   "outputs": [
    {
     "data": {
      "text/plain": [
       "{1, 2, 3, 4, 5, 6, 7, 8, 9, 10}"
      ]
     },
     "execution_count": 4,
     "metadata": {},
     "output_type": "execute_result"
    }
   ],
   "source": [
    "a.union(b,c)"
   ]
  },
  {
   "cell_type": "code",
   "execution_count": 5,
   "id": "70763cac-582c-4032-b8a5-dac616cd8050",
   "metadata": {},
   "outputs": [
    {
     "name": "stdout",
     "output_type": "stream",
     "text": [
      "{1, 2, 3, 4, 5}\n",
      "{4, 5, 6, 7, 8}\n",
      "{8, 9, 10}\n"
     ]
    }
   ],
   "source": [
    "print(a)\n",
    "print(b)\n",
    "print(c)"
   ]
  },
  {
   "cell_type": "code",
   "execution_count": 6,
   "id": "752c7e4c-bc0c-466a-88de-6b416cae9f94",
   "metadata": {},
   "outputs": [
    {
     "data": {
      "text/plain": [
       "{1, 2, 3, 4, 5, 6, 7, 8, 9, 10}"
      ]
     },
     "execution_count": 6,
     "metadata": {},
     "output_type": "execute_result"
    }
   ],
   "source": [
    "a|b|c"
   ]
  },
  {
   "cell_type": "code",
   "execution_count": 7,
   "id": "63638a1d-e46f-4dd1-9887-07402fd7e88d",
   "metadata": {},
   "outputs": [
    {
     "data": {
      "text/plain": [
       "{1, 2, 3, 4, 5, 8, 9, 10}"
      ]
     },
     "execution_count": 7,
     "metadata": {},
     "output_type": "execute_result"
    }
   ],
   "source": [
    "a|c"
   ]
  },
  {
   "cell_type": "code",
   "execution_count": 8,
   "id": "eeb8e2fe-6235-49e7-8d45-f6d32e8d3e7b",
   "metadata": {},
   "outputs": [
    {
     "data": {
      "text/plain": [
       "{1, 2, 3, 4, 5, 6, 7, 8, 9, 10}"
      ]
     },
     "execution_count": 8,
     "metadata": {},
     "output_type": "execute_result"
    }
   ],
   "source": [
    "a|c|b"
   ]
  },
  {
   "cell_type": "markdown",
   "id": "ede7c610-ea1d-4c8b-a158-dfd6a230e588",
   "metadata": {},
   "source": [
    "intersection"
   ]
  },
  {
   "cell_type": "code",
   "execution_count": null,
   "id": "c46874fc-b24e-4090-9d79-e5c9942c3d4f",
   "metadata": {},
   "outputs": [],
   "source": [
    "a={1,2,3,4,5}\n",
    "b={4,5,6,7,8}\n",
    "c={8,9,10}"
   ]
  },
  {
   "cell_type": "code",
   "execution_count": 9,
   "id": "be346834-2c05-4846-9537-6ce24e486fa9",
   "metadata": {},
   "outputs": [
    {
     "data": {
      "text/plain": [
       "{4, 5}"
      ]
     },
     "execution_count": 9,
     "metadata": {},
     "output_type": "execute_result"
    }
   ],
   "source": [
    "a.intersection(b)"
   ]
  },
  {
   "cell_type": "code",
   "execution_count": 10,
   "id": "4fc39aeb-5c84-4a7f-a266-6147e24746aa",
   "metadata": {},
   "outputs": [
    {
     "data": {
      "text/plain": [
       "{8}"
      ]
     },
     "execution_count": 10,
     "metadata": {},
     "output_type": "execute_result"
    }
   ],
   "source": [
    "b.intersection(c)"
   ]
  },
  {
   "cell_type": "code",
   "execution_count": 11,
   "id": "d263476a-be33-4615-8ed3-27ce3cdf0d10",
   "metadata": {},
   "outputs": [
    {
     "data": {
      "text/plain": [
       "{4, 5}"
      ]
     },
     "execution_count": 11,
     "metadata": {},
     "output_type": "execute_result"
    }
   ],
   "source": [
    "a&b"
   ]
  },
  {
   "cell_type": "code",
   "execution_count": 12,
   "id": "468e7bd5-6db0-4694-8070-0b2077bfa40f",
   "metadata": {},
   "outputs": [
    {
     "data": {
      "text/plain": [
       "{8}"
      ]
     },
     "execution_count": 12,
     "metadata": {},
     "output_type": "execute_result"
    }
   ],
   "source": [
    "b&c"
   ]
  },
  {
   "cell_type": "markdown",
   "id": "5e4d41a7-9cc1-4d08-af85-a19fc8f0e043",
   "metadata": {},
   "source": [
    "Differnece"
   ]
  },
  {
   "cell_type": "code",
   "execution_count": 13,
   "id": "4626e465-4114-4991-897c-923ad1af7ba1",
   "metadata": {},
   "outputs": [],
   "source": [
    "a={1,2,3,4,5}\n",
    "b={4,5,6,7,8}\n",
    "c={8,9,10}"
   ]
  },
  {
   "cell_type": "code",
   "execution_count": 14,
   "id": "150eb52b-d9dd-4f96-91be-3718c2fb787f",
   "metadata": {},
   "outputs": [
    {
     "data": {
      "text/plain": [
       "{1, 2, 3}"
      ]
     },
     "execution_count": 14,
     "metadata": {},
     "output_type": "execute_result"
    }
   ],
   "source": [
    "a.difference(b)"
   ]
  },
  {
   "cell_type": "code",
   "execution_count": 15,
   "id": "b0436542-f3ff-4c4d-8596-1dafca44c73d",
   "metadata": {},
   "outputs": [
    {
     "data": {
      "text/plain": [
       "{4, 5, 6, 7}"
      ]
     },
     "execution_count": 15,
     "metadata": {},
     "output_type": "execute_result"
    }
   ],
   "source": [
    "b.difference(c)"
   ]
  },
  {
   "cell_type": "code",
   "execution_count": 16,
   "id": "2712fd6a-bf1c-4049-9627-e118790c749a",
   "metadata": {},
   "outputs": [
    {
     "data": {
      "text/plain": [
       "{6, 7, 8}"
      ]
     },
     "execution_count": 16,
     "metadata": {},
     "output_type": "execute_result"
    }
   ],
   "source": [
    "b.difference(a)"
   ]
  },
  {
   "cell_type": "code",
   "execution_count": 17,
   "id": "949ceae5-34b7-4322-81ff-d6027b2b749a",
   "metadata": {},
   "outputs": [
    {
     "data": {
      "text/plain": [
       "{4, 5, 6, 7}"
      ]
     },
     "execution_count": 17,
     "metadata": {},
     "output_type": "execute_result"
    }
   ],
   "source": [
    "b-c"
   ]
  },
  {
   "cell_type": "code",
   "execution_count": 18,
   "id": "afc8eff7-6e83-4c98-bdaf-17ccb0f4facf",
   "metadata": {},
   "outputs": [
    {
     "data": {
      "text/plain": [
       "{9, 10}"
      ]
     },
     "execution_count": 18,
     "metadata": {},
     "output_type": "execute_result"
    }
   ],
   "source": [
    "c-b"
   ]
  },
  {
   "cell_type": "code",
   "execution_count": 19,
   "id": "496a08cd-c5a5-4349-bd55-219f7132e5af",
   "metadata": {},
   "outputs": [
    {
     "data": {
      "text/plain": [
       "{1, 2, 3}"
      ]
     },
     "execution_count": 19,
     "metadata": {},
     "output_type": "execute_result"
    }
   ],
   "source": [
    "a-b-c"
   ]
  },
  {
   "cell_type": "code",
   "execution_count": null,
   "id": "2af27b65-3759-4914-b2c4-a9104572ce52",
   "metadata": {},
   "outputs": [],
   "source": []
  }
 ],
 "metadata": {
  "kernelspec": {
   "display_name": "Python 3 (ipykernel)",
   "language": "python",
   "name": "python3"
  },
  "language_info": {
   "codemirror_mode": {
    "name": "ipython",
    "version": 3
   },
   "file_extension": ".py",
   "mimetype": "text/x-python",
   "name": "python",
   "nbconvert_exporter": "python",
   "pygments_lexer": "ipython3",
   "version": "3.13.5"
  }
 },
 "nbformat": 4,
 "nbformat_minor": 5
}
